{
 "cells": [
  {
   "cell_type": "markdown",
   "metadata": {
    "id": "-JsfzlbFE3A3"
   },
   "source": [
    "#### Task 3: Import NumPy\n",
    "\n",
    "This one is easy - just import the package 😄. Make sure to follow the conventions, though!"
   ]
  },
  {
   "cell_type": "code",
   "execution_count": 1,
   "metadata": {
    "collapsed": true,
    "id": "-KFBDcZ5E3A6"
   },
   "outputs": [],
   "source": [
    "import numpy as np"
   ]
  },
  {
   "cell_type": "markdown",
   "metadata": {
    "id": "YepvzR5qE3A9"
   },
   "source": [
    "#### Task 4: Python vs NumPy\n",
    "\n",
    "Use pure Python and `numpy` to create a Python list/`numpy`:\n",
    "\n",
    "- array of $10$ zeros;\n",
    "- array of $10$ ones;\n",
    "- array of $10$ fives;\n",
    "- array of $10$ zeroes, the fifth value of which is $1$;\n",
    "- array of all the integers from $10$ to $50$;\n",
    "- array of all the even integers from $10$ to $50$;\n",
    "- array that is the reversal of the list `[1, 2, 3]` (save these values in an object and use both methods to reverse that object);\n",
    "- a 3x3 matrix with values ranging from $0$ to $8$;\n",
    "- a 3x3 identity matrix;\n",
    "- a 5x5 matrix with values 1,2,3,4 just below the diagonal."
   ]
  },
  {
   "cell_type": "code",
   "execution_count": 2,
   "metadata": {},
   "outputs": [],
   "source": [
    "zeros = [0] * 10\n",
    "np_zeros = np.zeros(10)\n",
    "\n",
    "ones = [1] * 10\n",
    "np_ones = np.ones(10)\n",
    "\n",
    "fives = [5] * 10\n",
    "np_fives = np.full(10, 5)\n",
    "\n",
    "zeros_and_five = zeros.copy()\n",
    "zeros_and_five.insert(5, 5)\n",
    "np_zeros_and_five = np.zeros(11)\n",
    "np_zeros_and_five[5] = 5\n",
    "\n",
    "ten_to_fifty = list(range(10, 51))\n",
    "np_ten_to_fifty = np.arange(10, 51)\n",
    "\n",
    "ten_to_fifty_even = list(range(10, 51, 2))\n",
    "np_ten_to_fifty_even = np.arange(10, 51, 2)\n",
    "\n",
    "one_to_three = [1,2,3]\n",
    "one_to_three_rev = one_to_three[::-1]\n",
    "np_one_to_three_rev = np.flip(one_to_three)\n",
    "\n",
    "zero_to_eight_matrix = [[0, 1, 2],[3, 4, 5],[6, 7, 8]]\n",
    "np_zero_to_eight_matrix = np.arange(0, 9).reshape(3, 3)\n",
    "\n",
    "identity = [[1, 0, 0], [0, 1, 0], [0, 0, 1]]\n",
    "np_identity = np.identity(3)\n",
    "\n",
    "one_to_four_diagonal = [[0, 0, 0, 0, 0], [1, 0, 0, 0, 0], [0, 2, 0, 0, 0],\n",
    "                        [0, 0, 3, 0, 0], [0, 0, 0, 4, 0]]\n",
    "np_one_to_four_diagonal = np.diag(np.arange(1, 5), k=-1)"
   ]
  },
  {
   "cell_type": "code",
   "execution_count": 3,
   "metadata": {
    "collapsed": true,
    "id": "x5RpxdUGE3A_"
   },
   "outputs": [
    {
     "name": "stdout",
     "output_type": "stream",
     "text": [
      "array of 10 zeros\n",
      "Python: [0, 0, 0, 0, 0, 0, 0, 0, 0, 0]\n",
      "Numpy: [0. 0. 0. 0. 0. 0. 0. 0. 0. 0.]\n",
      "\n",
      "array of 10 ones\n",
      "Python: [1, 1, 1, 1, 1, 1, 1, 1, 1, 1]\n",
      "Numpy: [1. 1. 1. 1. 1. 1. 1. 1. 1. 1.]\n",
      "\n",
      "array of 10 fives\n",
      "Python: [5, 5, 5, 5, 5, 5, 5, 5, 5, 5]\n",
      "Numpy: [5 5 5 5 5 5 5 5 5 5]\n",
      "\n",
      "array of 10 zeros, the fifth value of which is 1\n",
      "Python: [0, 0, 0, 0, 0, 5, 0, 0, 0, 0, 0]\n",
      "Numpy: [0. 0. 0. 0. 0. 5. 0. 0. 0. 0. 0.]\n",
      "\n",
      "array of all integers from 10 to 50\n",
      "Python: [10, 11, 12, 13, 14, 15, 16, 17, 18, 19, 20, 21, 22, 23, 24, 25, 26, 27, 28, 29, 30, 31, 32, 33, 34, 35, 36, 37, 38, 39, 40, 41, 42, 43, 44, 45, 46, 47, 48, 49, 50]\n",
      "Numpy: [10 11 12 13 14 15 16 17 18 19 20 21 22 23 24 25 26 27 28 29 30 31 32 33\n",
      " 34 35 36 37 38 39 40 41 42 43 44 45 46 47 48 49 50]\n",
      "\n",
      "array of all even integers from 10 to 50\n",
      "Python: [10, 12, 14, 16, 18, 20, 22, 24, 26, 28, 30, 32, 34, 36, 38, 40, 42, 44, 46, 48, 50]\n",
      "Numpy: [10 12 14 16 18 20 22 24 26 28 30 32 34 36 38 40 42 44 46 48 50]\n",
      "\n",
      "[1,2,3] reversed\n",
      "Python: [3, 2, 1]\n",
      "Numpy: [3 2 1]\n",
      "\n",
      "0 to 8 matrix\n",
      "Python: [[0, 1, 2], [3, 4, 5], [6, 7, 8]]\n",
      "Numpy: \n",
      "[[0 1 2]\n",
      " [3 4 5]\n",
      " [6 7 8]]\n",
      "\n",
      "3*3 identity matrix\n",
      "Python: [[1, 0, 0], [0, 1, 0], [0, 0, 1]]\n",
      "Numpy: \n",
      "[[1. 0. 0.]\n",
      " [0. 1. 0.]\n",
      " [0. 0. 1.]]\n",
      "\n",
      "5*5 with 1 to 4 under the diagonal\n",
      "Python: [[0, 0, 0, 0, 0], [1, 0, 0, 0, 0], [0, 2, 0, 0, 0], [0, 0, 3, 0, 0], [0, 0, 0, 4, 0]]\n",
      "Numpy: \n",
      "[[0 0 0 0 0]\n",
      " [1 0 0 0 0]\n",
      " [0 2 0 0 0]\n",
      " [0 0 3 0 0]\n",
      " [0 0 0 4 0]]\n",
      "\n"
     ]
    }
   ],
   "source": [
    "print('array of 10 zeros')\n",
    "print(f'Python: {zeros}')\n",
    "print(f'Numpy: {np_zeros}\\n')\n",
    "\n",
    "print('array of 10 ones')\n",
    "print(f'Python: {ones}')\n",
    "print(f'Numpy: {np_ones}\\n')\n",
    "\n",
    "print('array of 10 fives')\n",
    "print(f'Python: {fives}')\n",
    "print(f'Numpy: {np_fives}\\n')\n",
    "\n",
    "print('array of 10 zeros, the fifth value of which is 1')\n",
    "print(f'Python: {zeros_and_five}')\n",
    "print(f'Numpy: {np_zeros_and_five}\\n')\n",
    "\n",
    "print('array of all integers from 10 to 50')\n",
    "print(f'Python: {ten_to_fifty}')\n",
    "print(f'Numpy: {np_ten_to_fifty}\\n')\n",
    "\n",
    "print('array of all even integers from 10 to 50')\n",
    "print(f'Python: {ten_to_fifty_even}')\n",
    "print(f'Numpy: {np_ten_to_fifty_even}\\n')\n",
    "\n",
    "print('[1,2,3] reversed')\n",
    "print(f'Python: {one_to_three_rev}')\n",
    "print(f'Numpy: {np_one_to_three_rev}\\n')\n",
    "\n",
    "print('0 to 8 matrix')\n",
    "print(f'Python: {zero_to_eight_matrix}')\n",
    "print(f'Numpy: \\n{np_zero_to_eight_matrix}\\n')\n",
    "\n",
    "print('3*3 identity matrix')\n",
    "print(f'Python: {identity}')\n",
    "print(f'Numpy: \\n{np_identity}\\n')\n",
    "\n",
    "print('5*5 with 1 to 4 under the diagonal')\n",
    "print(f'Python: {one_to_four_diagonal}')\n",
    "print(f'Numpy: \\n{np_one_to_four_diagonal}\\n')\n",
    "\n"
   ]
  },
  {
   "cell_type": "markdown",
   "metadata": {
    "id": "j2cdByl9A2az"
   },
   "source": [
    "#### Task 5: Using only NumPy:\n",
    "\n",
    "1. Create a 5x5 array with $1$ on the border and $0$ inside.\n",
    "2. Add a border filled with $0$'s on the two sides of an array `[1, 2, 3]`.\n",
    "3. Create an array of $20$ equally spaced numbers between $0$ and $1$.\n",
    "4. Create the following matrix:\n",
    "\n",
    "```text\n",
    "array([[0.01, 0.02, 0.03, 0.04, 0.05, 0.06, 0.07, 0.08, 0.09, 0.1 ],\n",
    "       [0.11, 0.12, 0.13, 0.14, 0.15, 0.16, 0.17, 0.18, 0.19, 0.2 ],\n",
    "       [0.21, 0.22, 0.23, 0.24, 0.25, 0.26, 0.27, 0.28, 0.29, 0.3 ],\n",
    "       [0.31, 0.32, 0.33, 0.34, 0.35, 0.36, 0.37, 0.38, 0.39, 0.4 ],\n",
    "       [0.41, 0.42, 0.43, 0.44, 0.45, 0.46, 0.47, 0.48, 0.49, 0.5 ],\n",
    "       [0.51, 0.52, 0.53, 0.54, 0.55, 0.56, 0.57, 0.58, 0.59, 0.6 ],\n",
    "       [0.61, 0.62, 0.63, 0.64, 0.65, 0.66, 0.67, 0.68, 0.69, 0.7 ],\n",
    "       [0.71, 0.72, 0.73, 0.74, 0.75, 0.76, 0.77, 0.78, 0.79, 0.8 ],\n",
    "       [0.81, 0.82, 0.83, 0.84, 0.85, 0.86, 0.87, 0.88, 0.89, 0.9 ],\n",
    "       [0.91, 0.92, 0.93, 0.94, 0.95, 0.96, 0.97, 0.98, 0.99, 1.  ]])\n",
    "```\n",
    "\n",
    "5. Find the indices of the non-zero elements in `[1, 2, 0, 0, 4, 0]`."
   ]
  },
  {
   "cell_type": "code",
   "execution_count": 4,
   "metadata": {},
   "outputs": [],
   "source": [
    "five_by_five_ones_around = np.ones((5, 5)) - np.pad(np.ones((3, 3)), 1)\n",
    "one_to_three_zero_border = np.pad(np.arange(1, 4, 1), 1)\n",
    "zero_to_one_twenty = np.linspace(0, 1, 20)\n",
    "zero_to_one_matrix = np.reshape(np.linspace(0.01, 1, 100), (10, 10))\n",
    "array_with_some_zeroes = np.array([1, 2, 0, 0, 4, 0])"
   ]
  },
  {
   "cell_type": "code",
   "execution_count": 5,
   "metadata": {},
   "outputs": [
    {
     "name": "stdout",
     "output_type": "stream",
     "text": [
      "5*5 array with ones on the border and zeros inside:\n",
      "[[1. 1. 1. 1. 1.]\n",
      " [1. 0. 0. 0. 1.]\n",
      " [1. 0. 0. 0. 1.]\n",
      " [1. 0. 0. 0. 1.]\n",
      " [1. 1. 1. 1. 1.]]\n",
      "\n",
      "[1,2,3] with on the sides\n",
      "[0 1 2 3 0]\n",
      "\n",
      "20 evenly spaced numbers from 0 to 1\n",
      "[0.         0.05263158 0.10526316 0.15789474 0.21052632 0.26315789\n",
      " 0.31578947 0.36842105 0.42105263 0.47368421 0.52631579 0.57894737\n",
      " 0.63157895 0.68421053 0.73684211 0.78947368 0.84210526 0.89473684\n",
      " 0.94736842 1.        ]\n",
      "\n",
      "0.01 to 1 spaced by 0.01 matrix\n",
      "[[0.01 0.02 0.03 0.04 0.05 0.06 0.07 0.08 0.09 0.1 ]\n",
      " [0.11 0.12 0.13 0.14 0.15 0.16 0.17 0.18 0.19 0.2 ]\n",
      " [0.21 0.22 0.23 0.24 0.25 0.26 0.27 0.28 0.29 0.3 ]\n",
      " [0.31 0.32 0.33 0.34 0.35 0.36 0.37 0.38 0.39 0.4 ]\n",
      " [0.41 0.42 0.43 0.44 0.45 0.46 0.47 0.48 0.49 0.5 ]\n",
      " [0.51 0.52 0.53 0.54 0.55 0.56 0.57 0.58 0.59 0.6 ]\n",
      " [0.61 0.62 0.63 0.64 0.65 0.66 0.67 0.68 0.69 0.7 ]\n",
      " [0.71 0.72 0.73 0.74 0.75 0.76 0.77 0.78 0.79 0.8 ]\n",
      " [0.81 0.82 0.83 0.84 0.85 0.86 0.87 0.88 0.89 0.9 ]\n",
      " [0.91 0.92 0.93 0.94 0.95 0.96 0.97 0.98 0.99 1.  ]]\n",
      "\n",
      "indices of the non-zero elements in [1, 2, 0, 0, 4, 0]\n",
      "[0 1 4]\n"
     ]
    }
   ],
   "source": [
    "print('5*5 array with ones on the border and zeros inside:')\n",
    "print(five_by_five_ones_around)\n",
    "\n",
    "print('\\n[1,2,3] with on the sides')\n",
    "print(one_to_three_zero_border)\n",
    "\n",
    "print('\\n20 evenly spaced numbers from 0 to 1')\n",
    "print(zero_to_one_twenty)\n",
    "\n",
    "print('\\n0.01 to 1 spaced by 0.01 matrix')\n",
    "print(zero_to_one_matrix)\n",
    "\n",
    "print('\\nindices of the non-zero elements in [1, 2, 0, 0, 4, 0]')\n",
    "print(np.argwhere(array_with_some_zeroes != 0).flatten())\n"
   ]
  },
  {
   "cell_type": "markdown",
   "metadata": {
    "id": "vncZ8OjmE3Bk"
   },
   "source": [
    "#### Task 6: Use NumPy to generate:\n",
    "\n",
    "- a random number between 0 and 1;\n",
    "- an array of 25 random numbers sampled from a standard normal distribution;\n",
    "- a 3x3x3 array with random values drawn from the uniform distribution;\n",
    "- a 10x10 array with random values drawn from the uniform distribution and find the minimum and maximum values;\n",
    "- a random array with values drawn from the uniform distribution of size 30 and find the mean value;\n",
    "- and multiply a 5x3 matrix by a 3x2 matrix.\n",
    "\n",
    "**Note**: Your values should be different from the one shown below due to randomness."
   ]
  },
  {
   "cell_type": "code",
   "execution_count": 6,
   "metadata": {},
   "outputs": [],
   "source": [
    "rnd = np.random.rand(0, 1)\n",
    "random_25 = np.random.randn(25)\n",
    "random_3_cube = np.random.rand(3, 3, 3)\n",
    "random_10_by_10 = np.random.rand(10, 10)\n",
    "random_30 = np.random.rand(30)\n",
    "random_5_by_3 = np.random.rand(5, 3)\n",
    "random_3_by_2 = np.random.rand(3, 2)"
   ]
  },
  {
   "cell_type": "code",
   "execution_count": 7,
   "metadata": {
    "collapsed": true,
    "id": "1Ha0bAioE3Bl"
   },
   "outputs": [
    {
     "name": "stdout",
     "output_type": "stream",
     "text": [
      "a random number between 0 and 1\n",
      "[]\n",
      "\n",
      "an array of 25 random numbers sampled from a standard normal distribution\n",
      "[-0.50116775  1.5215593  -0.80976688  2.09169822 -0.71197455  0.98478494\n",
      "  1.87815245 -1.06027198  1.21614483 -1.1416019  -1.58054582  1.07553389\n",
      " -1.23000979 -0.29434119 -1.14744511  2.22555851  0.11865158  0.02024052\n",
      " -1.37490717 -1.71791548 -0.60650213  0.57737355  0.88408605 -0.67347556\n",
      " -0.78813311]\n",
      "\n",
      "a 3x3x3 array with random uniform distribution values\n",
      "[[[5.88379478e-01 4.49519546e-02 5.14935515e-01]\n",
      "  [8.45693055e-01 6.59210031e-04 8.10845292e-01]\n",
      "  [8.93920897e-01 7.76826556e-01 5.93852264e-01]]\n",
      "\n",
      " [[4.66949704e-01 4.95765046e-01 5.49926629e-01]\n",
      "  [1.71271989e-01 2.34652998e-02 4.88020991e-01]\n",
      "  [2.39196055e-01 3.43176381e-01 2.25935470e-01]]\n",
      "\n",
      " [[1.55278343e-01 8.06067435e-01 5.94846728e-01]\n",
      "  [1.67791990e-01 5.33879459e-02 5.89254084e-01]\n",
      "  [1.16122398e-01 8.85256213e-01 4.37374920e-01]]]\n",
      "\n",
      "10x10 array of random values from the uniform distribution\n",
      "[[0.73584906 0.32654882 0.97146205 0.8373021  0.79108844 0.67921586\n",
      "  0.58444418 0.76425609 0.71850548 0.45998788]\n",
      " [0.33392054 0.92267503 0.33085774 0.00348403 0.58608437 0.88501483\n",
      "  0.90533557 0.90228722 0.56062263 0.1000283 ]\n",
      " [0.70698864 0.45872198 0.93008332 0.16488475 0.91362099 0.23518931\n",
      "  0.37215927 0.40053626 0.28174354 0.35205069]\n",
      " [0.45254385 0.25539838 0.00260389 0.14709093 0.13641699 0.05402509\n",
      "  0.22368734 0.15448713 0.63530113 0.42465577]\n",
      " [0.84761714 0.24436607 0.23602701 0.48671221 0.50691817 0.3630479\n",
      "  0.55549766 0.93690999 0.4782401  0.28905341]\n",
      " [0.05015994 0.74461909 0.25299121 0.84856543 0.76910466 0.9432908\n",
      "  0.93202155 0.70364833 0.8639215  0.6206702 ]\n",
      " [0.25219015 0.71151827 0.34643048 0.67474195 0.18680067 0.36071861\n",
      "  0.82434015 0.98423007 0.24638832 0.74179924]\n",
      " [0.06781291 0.54449815 0.25307067 0.72020329 0.94428947 0.81589092\n",
      "  0.49096863 0.43390242 0.90563194 0.82576836]\n",
      " [0.12597798 0.80367874 0.86195936 0.65737181 0.42730053 0.1678127\n",
      "  0.4674566  0.72170582 0.73454494 0.29417498]\n",
      " [0.67363048 0.1910055  0.93278372 0.45426226 0.97856122 0.99684162\n",
      "  0.71997605 0.65602063 0.01916742 0.5250638 ]]\n",
      "Min: 0.0026038902735090463 ; Max: 0.9968416152104085\n",
      "\n",
      "array of 30 random values from the uniform distribution\n",
      "[0.44520053 0.11732626 0.19518559 0.2365473  0.76494722 0.45567783\n",
      " 0.40042634 0.04937433 0.53665187 0.20553384 0.07198874 0.30355052\n",
      " 0.82467097 0.79620719 0.49512419 0.28852337 0.6855759  0.25600711\n",
      " 0.92561293 0.83070009 0.80028646 0.52360874 0.54711667 0.56853381\n",
      " 0.71436506 0.59152948 0.95066704 0.23385275 0.00362887 0.29765165]\n",
      "Mean: 0.47053575456816094\n",
      "\n",
      "5x3 matrix multiplied by 3x2 matrix with random values\n",
      "[[0.44707775 0.66134515]\n",
      " [0.59326201 0.83340947]\n",
      " [1.00555656 0.64202661]\n",
      " [0.76860728 0.41454794]\n",
      " [1.01651679 0.54098151]]\n"
     ]
    }
   ],
   "source": [
    "print('a random number between 0 and 1')\n",
    "print(rnd)\n",
    "\n",
    "print(\n",
    "    '\\nan array of 25 random numbers sampled from a standard normal distribution'\n",
    ")\n",
    "print(random_25)\n",
    "\n",
    "print('\\na 3x3x3 array with random uniform distribution values')\n",
    "print(random_3_cube)\n",
    "\n",
    "print('\\n10x10 array of random values from the uniform distribution')\n",
    "print(random_10_by_10)\n",
    "print(f'Min: {np.min(random_10_by_10)} ; Max: {np.max(random_10_by_10)}')\n",
    "\n",
    "print('\\narray of 30 random values from the uniform distribution')\n",
    "print(random_30)\n",
    "print(f'Mean: {np.mean(random_30)}')\n",
    "\n",
    "print('\\n5x3 matrix multiplied by 3x2 matrix with random values')\n",
    "print(np.dot(random_5_by_3, random_3_by_2))"
   ]
  },
  {
   "cell_type": "markdown",
   "metadata": {
    "id": "csV1F6E-E3Bx"
   },
   "source": [
    "#### Task 7: Write code that uses the below matrix to reproduce the expected output"
   ]
  },
  {
   "cell_type": "code",
   "execution_count": 8,
   "metadata": {
    "id": "PdQlEg3iE3By",
    "outputId": "4855718d-6a97-4e38-dc73-f44b82db4295"
   },
   "outputs": [],
   "source": [
    "# RUN THIS CELL - THIS IS OUR STARTING MATRIX\n",
    "mat = np.arange(1,26).reshape(5,5)"
   ]
  },
  {
   "cell_type": "code",
   "execution_count": 9,
   "metadata": {},
   "outputs": [],
   "source": [
    "mat_modified1 = mat[(mat > 11) & (mat != 16) & (mat != 21)].reshape(3, 4)"
   ]
  },
  {
   "cell_type": "code",
   "execution_count": 10,
   "metadata": {
    "id": "k7yDnnYOE3B2",
    "outputId": "454d330c-7f19-4f4a-d71b-7e1302c97936"
   },
   "outputs": [
    {
     "data": {
      "text/plain": [
       "array([[12, 13, 14, 15],\n",
       "       [17, 18, 19, 20],\n",
       "       [22, 23, 24, 25]])"
      ]
     },
     "execution_count": 10,
     "metadata": {},
     "output_type": "execute_result"
    }
   ],
   "source": [
    "mat_modified1"
   ]
  },
  {
   "cell_type": "code",
   "execution_count": 11,
   "metadata": {},
   "outputs": [],
   "source": [
    "result = mat[3,4]"
   ]
  },
  {
   "cell_type": "code",
   "execution_count": 12,
   "metadata": {
    "id": "Xq0kG2LSE3B4",
    "outputId": "3a10c27b-fb61-402b-f634-7b91e297b5a3"
   },
   "outputs": [
    {
     "data": {
      "text/plain": [
       "np.int64(20)"
      ]
     },
     "execution_count": 12,
     "metadata": {},
     "output_type": "execute_result"
    }
   ],
   "source": [
    "result"
   ]
  },
  {
   "cell_type": "code",
   "execution_count": 13,
   "metadata": {},
   "outputs": [],
   "source": [
    "mat_modified2 = mat[(mat == 2) | (mat == 7) | (mat == 12)].reshape(3, 1)"
   ]
  },
  {
   "cell_type": "code",
   "execution_count": 14,
   "metadata": {
    "id": "NA5nV-usE3B8",
    "outputId": "b5f50c96-af45-4f76-e6f6-10a92cd6dce2"
   },
   "outputs": [
    {
     "data": {
      "text/plain": [
       "array([[ 2],\n",
       "       [ 7],\n",
       "       [12]])"
      ]
     },
     "execution_count": 14,
     "metadata": {},
     "output_type": "execute_result"
    }
   ],
   "source": [
    "mat_modified2"
   ]
  },
  {
   "cell_type": "code",
   "execution_count": 15,
   "metadata": {},
   "outputs": [],
   "source": [
    "mat_modified3 = mat[mat > 20]"
   ]
  },
  {
   "cell_type": "code",
   "execution_count": 16,
   "metadata": {
    "id": "0lLgHznHE3B_",
    "outputId": "459dbdea-c57b-4287-81ba-5656856de2f3"
   },
   "outputs": [
    {
     "data": {
      "text/plain": [
       "array([21, 22, 23, 24, 25])"
      ]
     },
     "execution_count": 16,
     "metadata": {},
     "output_type": "execute_result"
    }
   ],
   "source": [
    "mat_modified3"
   ]
  },
  {
   "cell_type": "code",
   "execution_count": 17,
   "metadata": {},
   "outputs": [],
   "source": [
    "mat_modified4 = mat[mat > 15].reshape(2, 5)"
   ]
  },
  {
   "cell_type": "code",
   "execution_count": 18,
   "metadata": {
    "id": "GHENKrGbE3CC",
    "outputId": "c26c1648-a148-428e-ebc8-c4f9fa754eef"
   },
   "outputs": [
    {
     "data": {
      "text/plain": [
       "array([[16, 17, 18, 19, 20],\n",
       "       [21, 22, 23, 24, 25]])"
      ]
     },
     "execution_count": 18,
     "metadata": {},
     "output_type": "execute_result"
    }
   ],
   "source": [
    "mat_modified4"
   ]
  },
  {
   "cell_type": "markdown",
   "metadata": {
    "id": "fmax4qmCE3CE"
   },
   "source": [
    "#### Task 8: Continue using the matrix `mat` to calculate the:\n",
    "\n",
    "- sum of its values;\n",
    "- standard deviation of its values;\n",
    "- the sum of all the columns;"
   ]
  },
  {
   "cell_type": "code",
   "execution_count": 19,
   "metadata": {},
   "outputs": [],
   "source": [
    "sum_of_mat = np.sum(mat)"
   ]
  },
  {
   "cell_type": "code",
   "execution_count": 20,
   "metadata": {
    "id": "G1lomhQEE3CF",
    "outputId": "eb404717-16e8-4ad4-9de2-0aaea05eaba2"
   },
   "outputs": [
    {
     "data": {
      "text/plain": [
       "np.int64(325)"
      ]
     },
     "execution_count": 20,
     "metadata": {},
     "output_type": "execute_result"
    }
   ],
   "source": [
    "sum_of_mat"
   ]
  },
  {
   "cell_type": "code",
   "execution_count": 21,
   "metadata": {},
   "outputs": [],
   "source": [
    "std_of_mat = np.std(mat)"
   ]
  },
  {
   "cell_type": "code",
   "execution_count": 22,
   "metadata": {
    "id": "9u7MXt1OE3CH",
    "outputId": "4418b06b-d4f4-4122-cc23-1ccc80591aa0"
   },
   "outputs": [
    {
     "data": {
      "text/plain": [
       "np.float64(7.211102550927978)"
      ]
     },
     "execution_count": 22,
     "metadata": {},
     "output_type": "execute_result"
    }
   ],
   "source": [
    "std_of_mat"
   ]
  },
  {
   "cell_type": "code",
   "execution_count": null,
   "metadata": {},
   "outputs": [],
   "source": [
    "mat_values = np.sum(mat, axis=0)"
   ]
  },
  {
   "cell_type": "code",
   "execution_count": 32,
   "metadata": {
    "id": "mbCsLwxQE3CI",
    "outputId": "74ecfae7-202b-49f1-e46b-d3d59509d741"
   },
   "outputs": [
    {
     "data": {
      "text/plain": [
       "array([55, 60, 65, 70, 75])"
      ]
     },
     "execution_count": 32,
     "metadata": {},
     "output_type": "execute_result"
    }
   ],
   "source": [
    "mat_values"
   ]
  },
  {
   "cell_type": "markdown",
   "metadata": {
    "id": "vZO-9cRnDoTk"
   },
   "source": [
    "#### Task 9: Let's practice composing operations:\n",
    "\n",
    "1. Create a 1D array of random integers between $0$ and $9$. Negate all numbers that fall in the interval $[3, 8]$.\n",
    "2. Create a random array with floating point values of size $10$ and sort it.\n",
    "3. Create random vector of values drawn from the uniform distribution of size $10$ and replace the maximum value with $0$."
   ]
  },
  {
   "cell_type": "code",
   "execution_count": 25,
   "metadata": {},
   "outputs": [],
   "source": [
    "array_1 = np.array([-x if (x >= 3) & (x <= 8) else x for x in np.random.randint(0, 10, 10)])"
   ]
  },
  {
   "cell_type": "code",
   "execution_count": 26,
   "metadata": {
    "colab": {
     "base_uri": "https://localhost:8080/"
    },
    "id": "M9IQNbmJwzah",
    "outputId": "c1980b73-1ce0-4434-9e89-5f14e8329706"
   },
   "outputs": [
    {
     "data": {
      "text/plain": [
       "array([-8, -4, -8,  9, -8, -7, -7, -7,  9,  9], dtype=int32)"
      ]
     },
     "execution_count": 26,
     "metadata": {},
     "output_type": "execute_result"
    }
   ],
   "source": [
    "array_1"
   ]
  },
  {
   "cell_type": "code",
   "execution_count": 27,
   "metadata": {},
   "outputs": [],
   "source": [
    "array_2 = np.sort(np.random.rand(10))"
   ]
  },
  {
   "cell_type": "code",
   "execution_count": 28,
   "metadata": {
    "colab": {
     "base_uri": "https://localhost:8080/"
    },
    "id": "ufEMUrNmxPRX",
    "outputId": "e3f772c4-f6d2-4fb5-c826-539bbeba2a75"
   },
   "outputs": [
    {
     "data": {
      "text/plain": [
       "array([0.14575031, 0.44759326, 0.47747193, 0.66757663, 0.69023282,\n",
       "       0.70092588, 0.71246203, 0.8514912 , 0.88343183, 0.89568974])"
      ]
     },
     "execution_count": 28,
     "metadata": {},
     "output_type": "execute_result"
    }
   ],
   "source": [
    "array_2"
   ]
  },
  {
   "cell_type": "code",
   "execution_count": 29,
   "metadata": {},
   "outputs": [],
   "source": [
    "array_3 = np.random.rand(10)\n",
    "array_3 = np.array([0 if x == np.max(array_3) else x for x in array_3])"
   ]
  },
  {
   "cell_type": "code",
   "execution_count": 30,
   "metadata": {
    "colab": {
     "base_uri": "https://localhost:8080/"
    },
    "executionInfo": {
     "elapsed": 14,
     "status": "ok",
     "timestamp": 1660391864203,
     "user": {
      "displayName": "Simeon Hristov",
      "userId": "14036852932086046142"
     },
     "user_tz": -180
    },
    "id": "FOdlAkmSEVMf",
    "outputId": "b7ecf9b9-533d-4a56-c028-328d324fdf9e"
   },
   "outputs": [
    {
     "data": {
      "text/plain": [
       "array([0.80410773, 0.92548625, 0.81182892, 0.94683536, 0.48156213,\n",
       "       0.76535084, 0.        , 0.60016765, 0.45884327, 0.93567927])"
      ]
     },
     "execution_count": 30,
     "metadata": {},
     "output_type": "execute_result"
    }
   ],
   "source": [
    "array_3"
   ]
  },
  {
   "cell_type": "markdown",
   "metadata": {
    "id": "1McMRiqA1SFM"
   },
   "source": [
    "#### Task 10: Reproducibility\n",
    "\n",
    "When training models, it's often important to generate the same random numbers every time the application is run, even if the machine changes. This ability helps us remove the possibility of creating the situation: *Well, it works on my machine...*.\n",
    "\n",
    "Our code should work on all machines and produce the same results across different runs.\n",
    "\n",
    "Go through the [documentation](https://numpy.org/doc/stable/reference/module_structure.html) and answer the below question.\n",
    "\n",
    "How can we ensure that we always get the same random numbers (even if we switch machines)? Give two examples.\n",
    "\n",
    "> **Your answer**: We can ensure that using the same seed for random generation. The modern approach is to use the Generator API. This way the seed is set as: numpy.random.default_rng(seed=None). The older (legacy) way is to use: numpy.random.seed(seed=None)"
   ]
  }
 ],
 "metadata": {
  "anaconda-cloud": {},
  "colab": {
   "collapsed_sections": [],
   "name": "for_home.ipynb",
   "provenance": [],
   "toc_visible": true
  },
  "kernelspec": {
   "display_name": "Python 3",
   "language": "python",
   "name": "python3"
  },
  "language_info": {
   "codemirror_mode": {
    "name": "ipython",
    "version": 3
   },
   "file_extension": ".py",
   "mimetype": "text/x-python",
   "name": "python",
   "nbconvert_exporter": "python",
   "pygments_lexer": "ipython3",
   "version": "3.13.2"
  }
 },
 "nbformat": 4,
 "nbformat_minor": 0
}
